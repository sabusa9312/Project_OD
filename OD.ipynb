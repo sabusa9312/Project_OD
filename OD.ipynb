{
 "cells": [
  {
   "cell_type": "code",
   "execution_count": 7,
   "metadata": {},
   "outputs": [
    {
     "data": {
      "text/html": [
       "<div>\n",
       "<style scoped>\n",
       "    .dataframe tbody tr th:only-of-type {\n",
       "        vertical-align: middle;\n",
       "    }\n",
       "\n",
       "    .dataframe tbody tr th {\n",
       "        vertical-align: top;\n",
       "    }\n",
       "\n",
       "    .dataframe thead th {\n",
       "        text-align: right;\n",
       "    }\n",
       "</style>\n",
       "<table border=\"1\" class=\"dataframe\">\n",
       "  <thead>\n",
       "    <tr style=\"text-align: right;\">\n",
       "      <th></th>\n",
       "      <th>SPEED_DOWN_ADSL_AVG</th>\n",
       "      <th>SPEED_DOWN_GREATEST_AVG</th>\n",
       "    </tr>\n",
       "  </thead>\n",
       "  <tbody>\n",
       "    <tr>\n",
       "      <th>2108</th>\n",
       "      <td>0.950000</td>\n",
       "      <td>0.950000</td>\n",
       "    </tr>\n",
       "    <tr>\n",
       "      <th>2147</th>\n",
       "      <td>0.950000</td>\n",
       "      <td>0.950000</td>\n",
       "    </tr>\n",
       "    <tr>\n",
       "      <th>3136</th>\n",
       "      <td>0.950000</td>\n",
       "      <td>0.950000</td>\n",
       "    </tr>\n",
       "    <tr>\n",
       "      <th>7250</th>\n",
       "      <td>0.950000</td>\n",
       "      <td>0.950000</td>\n",
       "    </tr>\n",
       "    <tr>\n",
       "      <th>5369</th>\n",
       "      <td>0.956693</td>\n",
       "      <td>0.956693</td>\n",
       "    </tr>\n",
       "  </tbody>\n",
       "</table>\n",
       "</div>"
      ],
      "text/plain": [
       "      SPEED_DOWN_ADSL_AVG  SPEED_DOWN_GREATEST_AVG\n",
       "2108             0.950000                 0.950000\n",
       "2147             0.950000                 0.950000\n",
       "3136             0.950000                 0.950000\n",
       "7250             0.950000                 0.950000\n",
       "5369             0.956693                 0.956693"
      ]
     },
     "execution_count": 7,
     "metadata": {},
     "output_type": "execute_result"
    }
   ],
   "source": [
    "import pandas as pd \n",
    "df = pd.read_csv('AGCOM_BBmap_opendata_comuni_csv.csv', delimiter=';')\n",
    "df.sort_values(by=['SPEED_DOWN_ADSL_AVG','SPEED_DOWN_VDSL_AVG', 'SPEED_DOWN_EVDSL_AVG', 'SPEED_DOWN_GREATEST_AVG'], inplace= True)\n",
    "df1 = df[['SPEED_DOWN_ADSL_AVG','SPEED_DOWN_VDSL_AVG', 'SPEED_DOWN_EVDSL_AVG', 'SPEED_DOWN_GREATEST_AVG']]\n",
    "df1[['SPEED_DOWN_ADSL_AVG', 'SPEED_DOWN_GREATEST_AVG']].head(5)"
   ]
  }
 ],
 "metadata": {
  "kernelspec": {
   "display_name": "base",
   "language": "python",
   "name": "python3"
  },
  "language_info": {
   "codemirror_mode": {
    "name": "ipython",
    "version": 3
   },
   "file_extension": ".py",
   "mimetype": "text/x-python",
   "name": "python",
   "nbconvert_exporter": "python",
   "pygments_lexer": "ipython3",
   "version": "3.9.7"
  },
  "orig_nbformat": 4,
  "vscode": {
   "interpreter": {
    "hash": "790f36fb953fdf8911d707fbe56c396308ebf8485a247af21bb04cac06cb3104"
   }
  }
 },
 "nbformat": 4,
 "nbformat_minor": 2
}
